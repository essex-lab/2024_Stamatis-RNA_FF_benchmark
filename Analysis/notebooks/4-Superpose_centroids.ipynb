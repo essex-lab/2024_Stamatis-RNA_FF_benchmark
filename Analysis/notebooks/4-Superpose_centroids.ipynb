{
 "cells": [
  {
   "cell_type": "markdown",
   "metadata": {},
   "source": [
    "# Superpose the cluster centroids to reference structure\n",
    "(For visualization purposes)"
   ]
  },
  {
   "cell_type": "markdown",
   "metadata": {},
   "source": [
    "## For Gvec clusters"
   ]
  },
  {
   "cell_type": "code",
   "execution_count": 1,
   "metadata": {},
   "outputs": [
    {
     "name": "stdout",
     "output_type": "stream",
     "text": [
      "/mnt/h/dimitris/RNA_simulations/mock_systems/github_code_example/conformational_analysis/notebooks\n",
      "<mdtraj.Trajectory with 1 frames, 447 atoms, 14 residues, and unitcells>\n",
      "<mdtraj.Topology with 1 chains, 14 residues, 447 atoms, 410 bonds>\n"
     ]
    }
   ],
   "source": [
    "import os\n",
    "import glob\n",
    "import numpy as np\n",
    "import mdtraj as md\n",
    "\n",
    "cwd = os.getcwd()\n",
    "print(cwd)\n",
    "\n",
    "refdir = \"../../REST2_dynamics/UUCG/300K/reference_structures\"\n",
    "outdir = \"../output/UUCG/300K/Gvec_clusters-single_FF/snippet_clusters-eps0.5_min200-single_run/\"\n",
    "\n",
    "reference = \"{}/UUCG-native.pdb\".format(refdir)\n",
    "\n",
    "ref_frame = md.load(reference)\n",
    "topol_ref = ref_frame.topology\n",
    "heavy_idx = topol_ref.select(\"!(name =~ 'H')\")\n",
    "\n",
    "print(ref_frame)\n",
    "print(topol_ref)"
   ]
  },
  {
   "cell_type": "code",
   "execution_count": 2,
   "metadata": {},
   "outputs": [
    {
     "name": "stdout",
     "output_type": "stream",
     "text": [
      "['../output/UUCG/300K/Gvec_clusters-single_FF/snippet_clusters-eps0.5_min200-single_run/cluster_000.gro', '../output/UUCG/300K/Gvec_clusters-single_FF/snippet_clusters-eps0.5_min200-single_run/cluster_001.gro', '../output/UUCG/300K/Gvec_clusters-single_FF/snippet_clusters-eps0.5_min200-single_run/cluster_002.gro', '../output/UUCG/300K/Gvec_clusters-single_FF/snippet_clusters-eps0.5_min200-single_run/cluster_003.gro', '../output/UUCG/300K/Gvec_clusters-single_FF/snippet_clusters-eps0.5_min200-single_run/cluster_004.gro', '../output/UUCG/300K/Gvec_clusters-single_FF/snippet_clusters-eps0.5_min200-single_run/cluster_005.gro', '../output/UUCG/300K/Gvec_clusters-single_FF/snippet_clusters-eps0.5_min200-single_run/cluster_006.gro', '../output/UUCG/300K/Gvec_clusters-single_FF/snippet_clusters-eps0.5_min200-single_run/cluster_007.gro', '../output/UUCG/300K/Gvec_clusters-single_FF/snippet_clusters-eps0.5_min200-single_run/cluster_008.gro']\n",
      "<mdtraj.Trajectory with 1 frames, 447 atoms, 14 residues, and unitcells>\n",
      "<mdtraj.Trajectory with 28948 frames, 447 atoms, 14 residues, and unitcells>\n",
      "<mdtraj.Trajectory with 1 frames, 447 atoms, 14 residues, and unitcells>\n",
      "<mdtraj.Trajectory with 1145 frames, 447 atoms, 14 residues, and unitcells>\n",
      "<mdtraj.Trajectory with 1 frames, 447 atoms, 14 residues, and unitcells>\n",
      "<mdtraj.Trajectory with 822 frames, 447 atoms, 14 residues, and unitcells>\n",
      "<mdtraj.Trajectory with 1 frames, 447 atoms, 14 residues, and unitcells>\n",
      "<mdtraj.Trajectory with 610 frames, 447 atoms, 14 residues, and unitcells>\n",
      "<mdtraj.Trajectory with 1 frames, 447 atoms, 14 residues, and unitcells>\n",
      "<mdtraj.Trajectory with 448 frames, 447 atoms, 14 residues, and unitcells>\n",
      "<mdtraj.Trajectory with 1 frames, 447 atoms, 14 residues, and unitcells>\n",
      "<mdtraj.Trajectory with 356 frames, 447 atoms, 14 residues, and unitcells>\n",
      "<mdtraj.Trajectory with 1 frames, 447 atoms, 14 residues, and unitcells>\n",
      "<mdtraj.Trajectory with 303 frames, 447 atoms, 14 residues, and unitcells>\n",
      "<mdtraj.Trajectory with 1 frames, 447 atoms, 14 residues, and unitcells>\n",
      "<mdtraj.Trajectory with 206 frames, 447 atoms, 14 residues, and unitcells>\n",
      "<mdtraj.Trajectory with 1 frames, 447 atoms, 14 residues, and unitcells>\n",
      "<mdtraj.Trajectory with 200 frames, 447 atoms, 14 residues, and unitcells>\n"
     ]
    }
   ],
   "source": [
    "# Superpose centered trajectory based on stem C3' atoms of reference state.\n",
    "# Superpose centered trajectory based on stem C3' atoms of frame 0.\n",
    "C3_prm = [atom.index for atom in topol_ref.atoms if atom.name==\"C3'\"]\n",
    "super_idx = [C3_prm[i] for i in [0,1,2,3,4,  9,10,11,12,13]] #PUT THE STEM RESIDS HERE\n",
    "\n",
    "flist = glob.glob(\"{}/*.gro\".format(outdir))\n",
    "print(flist)\n",
    "\n",
    "for file in flist:\n",
    "    centroid = md.load(file)\n",
    "    cluster = md.load(\"%s.traj.xtc\"%file[:-4], top=centroid)\n",
    "    centroid_super = centroid.superpose(ref_frame, frame=0, atom_indices=super_idx)\n",
    "    cluster_super = cluster.superpose(ref_frame, atom_indices=super_idx)\n",
    "    print(centroid_super)\n",
    "    print(cluster_super)\n",
    "    centroid_super.save(file[:-4]+\"-stem_align.gro\")\n",
    "    cluster_super.save(file[:-4]+\"-stem_align.xtc\")"
   ]
  },
  {
   "cell_type": "markdown",
   "metadata": {},
   "source": [
    "## For pseudodihedrals "
   ]
  },
  {
   "cell_type": "code",
   "execution_count": 3,
   "metadata": {},
   "outputs": [
    {
     "name": "stdout",
     "output_type": "stream",
     "text": [
      "<mdtraj.Trajectory with 1 frames, 447 atoms, 14 residues, and unitcells>\n",
      "<mdtraj.Topology with 1 chains, 14 residues, 447 atoms, 410 bonds>\n"
     ]
    }
   ],
   "source": [
    "outdir = \"../output/UUCG/300K/pseudodihedral_PCA\"\n",
    "\n",
    "topol_ref = ref_frame.topology\n",
    "heavy_idx = topol_ref.select(\"!(name =~ 'H')\")\n",
    "\n",
    "print(ref_frame)\n",
    "print(topol_ref)"
   ]
  },
  {
   "cell_type": "code",
   "execution_count": 4,
   "metadata": {},
   "outputs": [
    {
     "name": "stdout",
     "output_type": "stream",
     "text": [
      "[25, 59, 90, 123, 154, 313, 343, 377, 408, 439]\n",
      "<mdtraj.Trajectory with 1 frames, 447 atoms, 14 residues, and unitcells>\n",
      "<mdtraj.Trajectory with 1 frames, 447 atoms, 14 residues, and unitcells>\n",
      "<mdtraj.Trajectory with 1 frames, 447 atoms, 14 residues, and unitcells>\n",
      "<mdtraj.Trajectory with 1 frames, 447 atoms, 14 residues, and unitcells>\n",
      "<mdtraj.Trajectory with 1 frames, 447 atoms, 14 residues, and unitcells>\n",
      "<mdtraj.Trajectory with 1 frames, 447 atoms, 14 residues, and unitcells>\n",
      "<mdtraj.Trajectory with 1 frames, 447 atoms, 14 residues, and unitcells>\n",
      "<mdtraj.Trajectory with 1 frames, 447 atoms, 14 residues, and unitcells>\n",
      "<mdtraj.Trajectory with 1 frames, 447 atoms, 14 residues, and unitcells>\n",
      "<mdtraj.Trajectory with 1 frames, 447 atoms, 14 residues, and unitcells>\n",
      "<mdtraj.Trajectory with 1 frames, 447 atoms, 14 residues, and unitcells>\n",
      "<mdtraj.Trajectory with 1 frames, 447 atoms, 14 residues, and unitcells>\n",
      "<mdtraj.Trajectory with 1 frames, 447 atoms, 14 residues, and unitcells>\n",
      "<mdtraj.Trajectory with 1 frames, 447 atoms, 14 residues, and unitcells>\n",
      "<mdtraj.Trajectory with 1 frames, 447 atoms, 14 residues, and unitcells>\n",
      "<mdtraj.Trajectory with 1 frames, 447 atoms, 14 residues, and unitcells>\n",
      "<mdtraj.Trajectory with 1 frames, 447 atoms, 14 residues, and unitcells>\n",
      "<mdtraj.Trajectory with 1 frames, 447 atoms, 14 residues, and unitcells>\n",
      "<mdtraj.Trajectory with 1 frames, 447 atoms, 14 residues, and unitcells>\n",
      "<mdtraj.Trajectory with 1 frames, 447 atoms, 14 residues, and unitcells>\n",
      "<mdtraj.Trajectory with 1 frames, 447 atoms, 14 residues, and unitcells>\n",
      "<mdtraj.Trajectory with 1 frames, 447 atoms, 14 residues, and unitcells>\n",
      "<mdtraj.Trajectory with 1 frames, 447 atoms, 14 residues, and unitcells>\n",
      "<mdtraj.Trajectory with 1 frames, 447 atoms, 14 residues, and unitcells>\n",
      "<mdtraj.Trajectory with 1 frames, 447 atoms, 14 residues, and unitcells>\n",
      "<mdtraj.Trajectory with 1 frames, 447 atoms, 14 residues, and unitcells>\n",
      "<mdtraj.Trajectory with 1 frames, 447 atoms, 14 residues, and unitcells>\n",
      "<mdtraj.Trajectory with 1 frames, 447 atoms, 14 residues, and unitcells>\n",
      "<mdtraj.Trajectory with 1 frames, 447 atoms, 14 residues, and unitcells>\n",
      "<mdtraj.Trajectory with 1 frames, 447 atoms, 14 residues, and unitcells>\n",
      "<mdtraj.Trajectory with 1 frames, 447 atoms, 14 residues, and unitcells>\n",
      "<mdtraj.Trajectory with 1 frames, 447 atoms, 14 residues, and unitcells>\n",
      "<mdtraj.Trajectory with 1 frames, 447 atoms, 14 residues, and unitcells>\n",
      "<mdtraj.Trajectory with 1 frames, 447 atoms, 14 residues, and unitcells>\n",
      "<mdtraj.Trajectory with 1 frames, 447 atoms, 14 residues, and unitcells>\n",
      "<mdtraj.Trajectory with 1 frames, 447 atoms, 14 residues, and unitcells>\n",
      "<mdtraj.Trajectory with 1 frames, 447 atoms, 14 residues, and unitcells>\n"
     ]
    }
   ],
   "source": [
    "# Superpose centered trajectory based on stem C3' atoms of reference state.\n",
    "C3prime = [atom.index for atom in topol_ref.atoms if atom.name==\"C3'\"] #will use the C3' ribose atoms for superposition.\n",
    "super_idx = [C3prime[i] for i in [0, 1, 2, 3, 4,  9, 10, 11, 12, 13]] #put the RNA stem resIDs here.\n",
    "print(super_idx)\n",
    "\n",
    "#list of the DASH centroid structure files.\n",
    "flist = glob.glob(\"{}/*pdb\".format(outdir))\n",
    "\n",
    "for file in flist:\n",
    "    centroid = md.load(file)\n",
    "    centroid_super = centroid.superpose(ref_frame, frame=0, atom_indices=super_idx)\n",
    "    print(centroid_super)\n",
    "    centroid_super.save(file[:-4]+\"-C3prime_align.gro\")"
   ]
  },
  {
   "cell_type": "code",
   "execution_count": null,
   "metadata": {},
   "outputs": [],
   "source": []
  }
 ],
 "metadata": {
  "kernelspec": {
   "display_name": "Python 3 (ipykernel)",
   "language": "python",
   "name": "python3"
  },
  "language_info": {
   "codemirror_mode": {
    "name": "ipython",
    "version": 3
   },
   "file_extension": ".py",
   "mimetype": "text/x-python",
   "name": "python",
   "nbconvert_exporter": "python",
   "pygments_lexer": "ipython3",
   "version": "3.7.8"
  },
  "toc": {
   "base_numbering": 1,
   "nav_menu": {},
   "number_sections": true,
   "sideBar": true,
   "skip_h1_title": false,
   "title_cell": "Table of Contents",
   "title_sidebar": "Contents",
   "toc_cell": false,
   "toc_position": {},
   "toc_section_display": true,
   "toc_window_display": true
  }
 },
 "nbformat": 4,
 "nbformat_minor": 4
}
